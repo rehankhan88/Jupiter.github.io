{
 "cells": [
  {
   "cell_type": "code",
   "execution_count": 31,
   "metadata": {},
   "outputs": [],
   "source": [
    "import pandas as pd"
   ]
  },
  {
   "cell_type": "code",
   "execution_count": 32,
   "metadata": {},
   "outputs": [
    {
     "data": {
      "text/html": [
       "<div>\n",
       "<style scoped>\n",
       "    .dataframe tbody tr th:only-of-type {\n",
       "        vertical-align: middle;\n",
       "    }\n",
       "\n",
       "    .dataframe tbody tr th {\n",
       "        vertical-align: top;\n",
       "    }\n",
       "\n",
       "    .dataframe thead th {\n",
       "        text-align: right;\n",
       "    }\n",
       "</style>\n",
       "<table border=\"1\" class=\"dataframe\">\n",
       "  <thead>\n",
       "    <tr style=\"text-align: right;\">\n",
       "      <th></th>\n",
       "      <th>Description</th>\n",
       "      <th>Invoice</th>\n",
       "      <th>Col</th>\n",
       "      <th>Item</th>\n",
       "      <th>Qty</th>\n",
       "      <th>Unit Price</th>\n",
       "      <th>Discount</th>\n",
       "      <th>Total</th>\n",
       "    </tr>\n",
       "  </thead>\n",
       "  <tbody>\n",
       "    <tr>\n",
       "      <th>0</th>\n",
       "      <td>Invoice 3-456-1 Data 1</td>\n",
       "      <td>3-456-1</td>\n",
       "      <td>444</td>\n",
       "      <td>NaN</td>\n",
       "      <td>1</td>\n",
       "      <td>1</td>\n",
       "      <td>12.0</td>\n",
       "      <td>-11.0</td>\n",
       "    </tr>\n",
       "    <tr>\n",
       "      <th>1</th>\n",
       "      <td>Invoice 3-456-1 Data 2</td>\n",
       "      <td>3-456-1</td>\n",
       "      <td>342</td>\n",
       "      <td>323.0</td>\n",
       "      <td>2</td>\n",
       "      <td>2</td>\n",
       "      <td>23.0</td>\n",
       "      <td>-19.0</td>\n",
       "    </tr>\n",
       "    <tr>\n",
       "      <th>2</th>\n",
       "      <td>Invoice 3-456-1 Data 3</td>\n",
       "      <td>3-456-1</td>\n",
       "      <td>345</td>\n",
       "      <td>23.0</td>\n",
       "      <td>3</td>\n",
       "      <td>3</td>\n",
       "      <td>3.0</td>\n",
       "      <td>6.0</td>\n",
       "    </tr>\n",
       "    <tr>\n",
       "      <th>3</th>\n",
       "      <td>Invoice 3-456-1 Data 4</td>\n",
       "      <td>3-456-1</td>\n",
       "      <td>456</td>\n",
       "      <td>NaN</td>\n",
       "      <td>4</td>\n",
       "      <td>4</td>\n",
       "      <td>4.0</td>\n",
       "      <td>12.0</td>\n",
       "    </tr>\n",
       "    <tr>\n",
       "      <th>4</th>\n",
       "      <td>Invoice 3-456-1 Data 5</td>\n",
       "      <td>3-456-1</td>\n",
       "      <td>556</td>\n",
       "      <td>454.0</td>\n",
       "      <td>5</td>\n",
       "      <td>5</td>\n",
       "      <td>5.0</td>\n",
       "      <td>20.0</td>\n",
       "    </tr>\n",
       "    <tr>\n",
       "      <th>5</th>\n",
       "      <td>Invoice 3-456-1 Data 6</td>\n",
       "      <td>3-456-1</td>\n",
       "      <td>556</td>\n",
       "      <td>554.0</td>\n",
       "      <td>6</td>\n",
       "      <td>6</td>\n",
       "      <td>6.0</td>\n",
       "      <td>30.0</td>\n",
       "    </tr>\n",
       "    <tr>\n",
       "      <th>6</th>\n",
       "      <td>Invoice 3-456-1 Data 7</td>\n",
       "      <td>3-456-1</td>\n",
       "      <td>658.466667</td>\n",
       "      <td>566.0</td>\n",
       "      <td>7</td>\n",
       "      <td>7</td>\n",
       "      <td>7.0</td>\n",
       "      <td>42.0</td>\n",
       "    </tr>\n",
       "  </tbody>\n",
       "</table>\n",
       "</div>"
      ],
      "text/plain": [
       "              Description  Invoice         Col   Item  Qty Unit Price  \\\n",
       "0  Invoice 3-456-1 Data 1  3-456-1         444    NaN    1          1   \n",
       "1  Invoice 3-456-1 Data 2  3-456-1         342  323.0    2          2   \n",
       "2  Invoice 3-456-1 Data 3  3-456-1         345   23.0    3          3   \n",
       "3  Invoice 3-456-1 Data 4  3-456-1         456    NaN    4          4   \n",
       "4  Invoice 3-456-1 Data 5  3-456-1         556  454.0    5          5   \n",
       "5  Invoice 3-456-1 Data 6  3-456-1         556  554.0    6          6   \n",
       "6  Invoice 3-456-1 Data 7  3-456-1  658.466667  566.0    7          7   \n",
       "\n",
       "   Discount  Total  \n",
       "0      12.0  -11.0  \n",
       "1      23.0  -19.0  \n",
       "2       3.0    6.0  \n",
       "3       4.0   12.0  \n",
       "4       5.0   20.0  \n",
       "5       6.0   30.0  \n",
       "6       7.0   42.0  "
      ]
     },
     "execution_count": 32,
     "metadata": {},
     "output_type": "execute_result"
    }
   ],
   "source": [
    "dataset = pd.read_excel(r\"Book1.xlsx\")\n",
    "dataset.head(7)"
   ]
  },
  {
   "cell_type": "code",
   "execution_count": 33,
   "metadata": {},
   "outputs": [
    {
     "name": "stdout",
     "output_type": "stream",
     "text": [
      "<class 'pandas.core.frame.DataFrame'>\n",
      "RangeIndex: 117 entries, 0 to 116\n",
      "Data columns (total 8 columns):\n",
      " #   Column       Non-Null Count  Dtype  \n",
      "---  ------       --------------  -----  \n",
      " 0   Description  117 non-null    object \n",
      " 1   Invoice      117 non-null    object \n",
      " 2   Col          117 non-null    object \n",
      " 3   Item         114 non-null    float64\n",
      " 4   Qty          117 non-null    int64  \n",
      " 5   Unit Price   117 non-null    object \n",
      " 6   Discount     105 non-null    float64\n",
      " 7   Total        116 non-null    float64\n",
      "dtypes: float64(3), int64(1), object(4)\n",
      "memory usage: 7.4+ KB\n"
     ]
    }
   ],
   "source": [
    "dataset.info()"
   ]
  },
  {
   "cell_type": "code",
   "execution_count": 34,
   "metadata": {},
   "outputs": [
    {
     "data": {
      "text/plain": [
       "Description     0\n",
       "Invoice         0\n",
       "Col             0\n",
       "Item            3\n",
       "Qty             0\n",
       "Unit Price      0\n",
       "Discount       12\n",
       "Total           1\n",
       "dtype: int64"
      ]
     },
     "execution_count": 34,
     "metadata": {},
     "output_type": "execute_result"
    }
   ],
   "source": [
    "dataset.isnull().sum()"
   ]
  },
  {
   "cell_type": "code",
   "execution_count": 35,
   "metadata": {},
   "outputs": [
    {
     "data": {
      "text/plain": [
       "Qty\n",
       "5     5\n",
       "45    4\n",
       "25    4\n",
       "10    4\n",
       "16    3\n",
       "2     3\n",
       "30    3\n",
       "40    3\n",
       "39    3\n",
       "23    3\n",
       "21    3\n",
       "20    3\n",
       "19    3\n",
       "18    3\n",
       "22    3\n",
       "15    3\n",
       "9     3\n",
       "4     3\n",
       "6     3\n",
       "7     3\n",
       "8     3\n",
       "3     3\n",
       "11    3\n",
       "12    3\n",
       "13    3\n",
       "14    3\n",
       "44    2\n",
       "17    2\n",
       "24    2\n",
       "48    1\n",
       "41    1\n",
       "42    1\n",
       "43    1\n",
       "46    1\n",
       "47    1\n",
       "37    1\n",
       "49    1\n",
       "50    1\n",
       "51    1\n",
       "52    1\n",
       "53    1\n",
       "38    1\n",
       "1     1\n",
       "36    1\n",
       "35    1\n",
       "34    1\n",
       "33    1\n",
       "32    1\n",
       "31    1\n",
       "29    1\n",
       "28    1\n",
       "27    1\n",
       "26    1\n",
       "65    1\n",
       "80    1\n",
       "70    1\n",
       "54    1\n",
       "Name: count, dtype: int64"
      ]
     },
     "execution_count": 35,
     "metadata": {},
     "output_type": "execute_result"
    }
   ],
   "source": [
    "dataset[\"Qty\"].value_counts()"
   ]
  },
  {
   "cell_type": "code",
   "execution_count": 36,
   "metadata": {},
   "outputs": [
    {
     "name": "stderr",
     "output_type": "stream",
     "text": [
      "C:\\Users\\MUHIB\\AppData\\Local\\Temp\\ipykernel_5896\\250429134.py:1: FutureWarning: A value is trying to be set on a copy of a DataFrame or Series through chained assignment using an inplace method.\n",
      "The behavior will change in pandas 3.0. This inplace method will never work because the intermediate object on which we are setting values always behaves as a copy.\n",
      "\n",
      "For example, when doing 'df[col].method(value, inplace=True)', try using 'df.method({col: value}, inplace=True)' or df[col] = df[col].method(value) instead, to perform the operation inplace on the original object.\n",
      "\n",
      "\n",
      "  dataset[\"Qty\"].fillna(dataset[\"Qty\"].mode()[0],inplace=True)\n"
     ]
    }
   ],
   "source": [
    "dataset[\"Qty\"].fillna(dataset[\"Qty\"].mode()[0],inplace=True)"
   ]
  },
  {
   "cell_type": "code",
   "execution_count": 37,
   "metadata": {},
   "outputs": [
    {
     "name": "stderr",
     "output_type": "stream",
     "text": [
      "C:\\Users\\MUHIB\\AppData\\Local\\Temp\\ipykernel_5896\\4291685994.py:1: FutureWarning: A value is trying to be set on a copy of a DataFrame or Series through chained assignment using an inplace method.\n",
      "The behavior will change in pandas 3.0. This inplace method will never work because the intermediate object on which we are setting values always behaves as a copy.\n",
      "\n",
      "For example, when doing 'df[col].method(value, inplace=True)', try using 'df.method({col: value}, inplace=True)' or df[col] = df[col].method(value) instead, to perform the operation inplace on the original object.\n",
      "\n",
      "\n",
      "  dataset[\"Qty\"].replace(\"3+\",\"3\",inplace=True)\n"
     ]
    }
   ],
   "source": [
    "dataset[\"Qty\"].replace(\"3+\",\"3\",inplace=True)"
   ]
  },
  {
   "cell_type": "code",
   "execution_count": 38,
   "metadata": {},
   "outputs": [
    {
     "name": "stdout",
     "output_type": "stream",
     "text": [
      "<class 'pandas.core.frame.DataFrame'>\n",
      "RangeIndex: 117 entries, 0 to 116\n",
      "Data columns (total 8 columns):\n",
      " #   Column       Non-Null Count  Dtype  \n",
      "---  ------       --------------  -----  \n",
      " 0   Description  117 non-null    object \n",
      " 1   Invoice      117 non-null    object \n",
      " 2   Col          117 non-null    object \n",
      " 3   Item         114 non-null    float64\n",
      " 4   Qty          117 non-null    int64  \n",
      " 5   Unit Price   117 non-null    object \n",
      " 6   Discount     105 non-null    float64\n",
      " 7   Total        116 non-null    float64\n",
      "dtypes: float64(3), int64(1), object(4)\n",
      "memory usage: 7.4+ KB\n"
     ]
    }
   ],
   "source": [
    "dataset.info()"
   ]
  },
  {
   "cell_type": "code",
   "execution_count": 39,
   "metadata": {},
   "outputs": [
    {
     "data": {
      "text/plain": [
       "Qty\n",
       "5     5\n",
       "45    4\n",
       "25    4\n",
       "10    4\n",
       "16    3\n",
       "2     3\n",
       "30    3\n",
       "40    3\n",
       "39    3\n",
       "23    3\n",
       "21    3\n",
       "20    3\n",
       "19    3\n",
       "18    3\n",
       "22    3\n",
       "15    3\n",
       "9     3\n",
       "4     3\n",
       "6     3\n",
       "7     3\n",
       "8     3\n",
       "3     3\n",
       "11    3\n",
       "12    3\n",
       "13    3\n",
       "14    3\n",
       "44    2\n",
       "17    2\n",
       "24    2\n",
       "48    1\n",
       "41    1\n",
       "42    1\n",
       "43    1\n",
       "46    1\n",
       "47    1\n",
       "37    1\n",
       "49    1\n",
       "50    1\n",
       "51    1\n",
       "52    1\n",
       "53    1\n",
       "38    1\n",
       "1     1\n",
       "36    1\n",
       "35    1\n",
       "34    1\n",
       "33    1\n",
       "32    1\n",
       "31    1\n",
       "29    1\n",
       "28    1\n",
       "27    1\n",
       "26    1\n",
       "65    1\n",
       "80    1\n",
       "70    1\n",
       "54    1\n",
       "Name: count, dtype: int64"
      ]
     },
     "execution_count": 39,
     "metadata": {},
     "output_type": "execute_result"
    }
   ],
   "source": [
    "dataset[\"Qty\"].value_counts()"
   ]
  },
  {
   "cell_type": "code",
   "execution_count": 40,
   "metadata": {},
   "outputs": [],
   "source": [
    "dataset[\"Qty\"]= dataset[\"Qty\"].astype(\"int64\")"
   ]
  },
  {
   "cell_type": "code",
   "execution_count": 41,
   "metadata": {},
   "outputs": [
    {
     "name": "stdout",
     "output_type": "stream",
     "text": [
      "<class 'pandas.core.frame.DataFrame'>\n",
      "RangeIndex: 117 entries, 0 to 116\n",
      "Data columns (total 8 columns):\n",
      " #   Column       Non-Null Count  Dtype  \n",
      "---  ------       --------------  -----  \n",
      " 0   Description  117 non-null    object \n",
      " 1   Invoice      117 non-null    object \n",
      " 2   Col          117 non-null    object \n",
      " 3   Item         114 non-null    float64\n",
      " 4   Qty          117 non-null    int64  \n",
      " 5   Unit Price   117 non-null    object \n",
      " 6   Discount     105 non-null    float64\n",
      " 7   Total        116 non-null    float64\n",
      "dtypes: float64(3), int64(1), object(4)\n",
      "memory usage: 7.4+ KB\n"
     ]
    }
   ],
   "source": [
    "dataset.info()"
   ]
  },
  {
   "cell_type": "code",
   "execution_count": null,
   "metadata": {},
   "outputs": [],
   "source": []
  }
 ],
 "metadata": {
  "kernelspec": {
   "display_name": "Python 3",
   "language": "python",
   "name": "python3"
  },
  "language_info": {
   "codemirror_mode": {
    "name": "ipython",
    "version": 3
   },
   "file_extension": ".py",
   "mimetype": "text/x-python",
   "name": "python",
   "nbconvert_exporter": "python",
   "pygments_lexer": "ipython3",
   "version": "3.12.3"
  }
 },
 "nbformat": 4,
 "nbformat_minor": 2
}
